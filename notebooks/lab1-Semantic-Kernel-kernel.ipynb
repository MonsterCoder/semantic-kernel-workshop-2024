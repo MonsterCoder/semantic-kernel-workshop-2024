{
 "cells": [
  {
   "cell_type": "markdown",
   "metadata": {},
   "source": [
    "# Semantic Kernel - Core Features \n",
    "Semantic Kernel is an open-source SDK designed for developers to easily integrate AI agents into their existing systems, facilitating automation and enhancing user experiences. This SDK bridges the gap between AI capabilities and practical application, making it straightforward to bring AI insights into actionable processes.\n",
    "\n",
    "## Core Features\n",
    "    0 AI Service Integration: \n",
    "It offers a uniform interface for connecting with various AI services like OpenAI, Azure OpenAI, HuggingFace, and Dall-e. This ensures developers can easily integrate different AI technologies without worrying about compatibility issues.\n",
    "\n",
    "    1. Extending AI to Real-World Actions: \n",
    "Beyond mere integration, the SDK allows for the execution of native code and actions based on AI outputs, supporting complex workflows through input and output chaining.Unified Interface to AI services\n",
    "Extend AI ablility to exteral world"
   ]
  },
  {
   "cell_type": "markdown",
   "metadata": {},
   "source": [
    "\n"
   ]
  },
  {
   "cell_type": "markdown",
   "metadata": {},
   "source": [
    "## Example: A simple agent\n",
    "In the following code, we are going to demostrate miniume steps of building an AI agent that follows user's instructions to complete task on a local system.\n",
    "\n",
    "First we register an AI service. In this example it is an Azure OpenAI \"GPT-4\" deveployment.\n",
    "Next, add TimePlugin and LightPlugin. The [TimePlugin](https://learn.microsoft.com/en-us/semantic-kernel/agents/plugins/out-of-the-box-plugins?tabs=Csharp) is an out-of-the-box plugin provided by Semantic Kernel, while LightPlugin is a plugin written in [native code](./plugins/LightPlugin.cs).\n",
    "Under the hood, Semantic Kernel will do all the heavy lifting by constructing requests to the AI service, parsing the response, invoking local functions and chain the messages. "
   ]
  },
  {
   "cell_type": "code",
   "execution_count": 21,
   "metadata": {
    "dotnet_interactive": {
     "language": "csharp"
    },
    "polyglot_notebook": {
     "kernelName": "csharp"
    },
    "vscode": {
     "languageId": "polyglot-notebook"
    }
   },
   "outputs": [
    {
     "data": {
      "text/html": [
       "<div><div></div><div></div><div><strong>Installed Packages</strong><ul><li><span>Microsoft.SemanticKernel, 1.3.1</span></li><li><span>Microsoft.SemanticKernel.Plugins.Core, 1.3.1-alpha</span></li></ul></div></div>"
      ]
     },
     "metadata": {},
     "output_type": "display_data"
    }
   ],
   "source": [
    "#r \"nuget: Microsoft.SemanticKernel, 1.3.1\"\n",
    "#r \"nuget: Microsoft.SemanticKernel.Plugins.Core, 1.3.1-alpha\"\n",
    "#!import config/Settings.cs \n",
    "#!import lib/Usings.cs\n",
    "#!import lib/Utilities.cs\n",
    "#!import plugins/LightPlugin.cs"
   ]
  },
  {
   "cell_type": "code",
   "execution_count": 2,
   "metadata": {
    "dotnet_interactive": {
     "language": "csharp"
    },
    "polyglot_notebook": {
     "kernelName": "csharp"
    },
    "vscode": {
     "languageId": "polyglot-notebook"
    }
   },
   "outputs": [],
   "source": [
    "var (useAzureOpenAI, model, azureEndpoint, apiKey, orgId) = Settings.LoadFromFile();\n",
    "var builder = Kernel.CreateBuilder();\n",
    "\n",
    "//register ai serivces\n",
    "builder.AddAzureOpenAIChatCompletion(model, azureEndpoint, apiKey);\n",
    "\n",
    "//register plugins\n",
    "#pragma warning disable SKEXP0050\n",
    "builder.Plugins.AddFromType<TimePlugin>();\n",
    "builder.Plugins.AddFromType<LightPlugin>();\n",
    "\n",
    "var kernel = builder.Build();\n"
   ]
  },
  {
   "cell_type": "markdown",
   "metadata": {},
   "source": [
    "## Lets see it in action. \n",
    "In the above code we have the kernel configured. Next step is actually send user request and see what happens.\n",
    "\n",
    "We want to use our AI agent to turn on/off lights based on current time. "
   ]
  },
  {
   "cell_type": "code",
   "execution_count": 25,
   "metadata": {
    "dotnet_interactive": {
     "language": "csharp"
    },
    "polyglot_notebook": {
     "kernelName": "csharp"
    },
    "vscode": {
     "languageId": "polyglot-notebook"
    }
   },
   "outputs": [
    {
     "name": "stdout",
     "output_type": "stream",
     "text": [
      "User > Turn on the lights if it is night time.\n",
      "Assistant > The lights are already on, and it is currently 15:00 (3:00 PM). There's no need to change the light setting at the moment.\n"
     ]
    }
   ],
   "source": [
    "var input = \"Turn on the lights if it is night time.\";\n",
    "\n",
    "ChatHistory history = [];\n",
    "\n",
    "// Get chat completion service\n",
    "var chatCompletionService = kernel.GetRequiredService<IChatCompletionService>();\n",
    "\n",
    "    // Get user input\n",
    "Console.WriteLine($\"User > {input}\");\n",
    "history.AddUserMessage(input);\n",
    "\n",
    "// Enable auto function calling\n",
    "OpenAIPromptExecutionSettings openAIPromptExecutionSettings = new()\n",
    "{\n",
    "    ToolCallBehavior = ToolCallBehavior.AutoInvokeKernelFunctions\n",
    "};\n",
    "\n",
    "// Get the response from the AI\n",
    "var result = await chatCompletionService.GetChatMessageContentAsync(\n",
    "        history,\n",
    "        executionSettings: openAIPromptExecutionSettings,\n",
    "        kernel: kernel);\n",
    "\n",
    "// Add the message from the agent to the chat history\n",
    "history.AddMessage(result.Role, result.Content);\n",
    "\n",
    "// Print the results\n",
    "Console.WriteLine(\"Assistant > \" + result);\n"
   ]
  },
  {
   "cell_type": "markdown",
   "metadata": {},
   "source": [
    "If everything is set up correctly, we should see the output tells us the dummy lighs are turned on/off. "
   ]
  },
  {
   "cell_type": "markdown",
   "metadata": {},
   "source": [
    "## What to see here\n",
    "<font >\n",
    "Even the user only made one request, Semantic Kernel coordinated the whole process until task completed.\n",
    "\n",
    "Semantic Kernel sent the prompt of user request with function metadata which tells AI service what functions are available to use.\n",
    "\n",
    "Response from the AI service contained function names and argument the AI service chose to do the task. \n",
    "\n",
    "Semantic Kernel parsed the response, called functions with argument, and chained the function executions.\n",
    "</font> "
   ]
  },
  {
   "cell_type": "code",
   "execution_count": 20,
   "metadata": {
    "dotnet_interactive": {
     "language": "csharp"
    },
    "polyglot_notebook": {
     "kernelName": "csharp"
    },
    "vscode": {
     "languageId": "polyglot-notebook"
    }
   },
   "outputs": [
    {
     "name": "stdout",
     "output_type": "stream",
     "text": [
      "Chat History\n",
      "\n",
      "\n",
      "0 [user]:\n",
      "\tTurn on the lights if it is night time. \n",
      "\n",
      "1 [assistant]:\n",
      "\t Null  \n",
      "\n",
      "function calls: \n",
      "\t[\n",
      "  {\n",
      "    \"Name\": \"TimePlugin-HourNumber\",\n",
      "    \"Arguments\": \"{}\",\n",
      "    \"Id\": \"call_qj2GVVu1J4U0r96dX0c5rXUX\"\n",
      "  },\n",
      "  {\n",
      "    \"Name\": \"LightPlugin-GetState\",\n",
      "    \"Arguments\": \"{}\",\n",
      "    \"Id\": \"call_NaR93z5jMLBbFt8C4g8xRnOz\"\n",
      "  }\n",
      "] \n",
      "\n",
      "2 [tool]\n",
      "\tcall_qj2GVVu1J4U0r96dX0c5rXUX( 11 )\n",
      "\n",
      "3 [tool]\n",
      "\tcall_NaR93z5jMLBbFt8C4g8xRnOz( off )\n",
      "\n",
      "4 [assistant]:\n",
      "\t Null  \n",
      "\n",
      "function calls: \n",
      "\t[\n",
      "  {\n",
      "    \"Name\": \"LightPlugin-ChangeState\",\n",
      "    \"Arguments\": \"{\\u0022newState\\u0022:true}\",\n",
      "    \"Id\": \"call_Z27B4gkMNyOCMrUpkRNzyke0\"\n",
      "  }\n",
      "] \n",
      "\n",
      "5 [tool]\n",
      "\tcall_Z27B4gkMNyOCMrUpkRNzyke0( on )\n",
      "\n",
      "6 [assistant]:\n",
      "\tI've turned on the lights for you, as it is nighttime. \n",
      "\n"
     ]
    }
   ],
   "source": [
    "    Console.ForegroundColor = ConsoleColor.DarkBlue;\n",
    "    Console.WriteLine($\"Chat History\\n\\n\");\n",
    "      \n",
    "    for (var i = 0; i < history.Count; i++)\n",
    "    {\n",
    "        ChatMessageContent msg = history[i];\n",
    "        \n",
    "        if (msg.Role.ToString() == \"tool\") {\n",
    "            Console.WriteLine($\"{i} [{msg.Role}]\");\n",
    "            Console.WriteLine($\"\\t{msg.Metadata?[\"ChatCompletionsToolCall.Id\"]}( {msg.Content} )\\n\");\n",
    "        } else {\n",
    "            Console.WriteLine($\"{i} [{msg.Role}]:\\n\\t{msg.Content ?? \" Null \"} \\n\");\n",
    "        }\n",
    "\n",
    "        if (msg is OpenAIChatMessageContent) {\n",
    "            OpenAIChatMessageContent aiMsg = (OpenAIChatMessageContent)msg;\n",
    "            Console.WriteLine($\"function calls: \\n\\t{aiMsg.Metadata?[\"ChatResponseMessage.FunctionToolCalls\"]?.AsJson()} \\n\");\n",
    "        }\n",
    "    } \n",
    " Console.ResetColor();"
   ]
  },
  {
   "cell_type": "markdown",
   "metadata": {},
   "source": [
    "## Wrapping up"
   ]
  },
  {
   "cell_type": "markdown",
   "metadata": {},
   "source": [
    "  Semantic Kernel abstracts away complex AI service integration logic and provides a uniform interface to communicate with different AI providers.\n",
    "\n",
    "  With its plugin system, we can extend AI cabilities by calling external tools.\n",
    "\n",
    "  Semantic Kernel also manages the history and orchestrates function executions."
   ]
  },
  {
   "cell_type": "markdown",
   "metadata": {},
   "source": []
  }
 ],
 "metadata": {
  "language_info": {
   "name": "csharp"
  }
 },
 "nbformat": 4,
 "nbformat_minor": 2
}
