{
 "cells": [
  {
   "cell_type": "markdown",
   "metadata": {},
   "source": [
    "# AI plugins\n",
    "After Lab 1, you should have grasped how AI models expand their capabilities to interact with the external world through plugins. Plugins serve as the foundational building blocks of the Semantic Kernel. They allow you to encapsulate capabilities into a single unit of functionality that the kernel can then execute \n",
    "[Read more](https://learn.microsoft.com/en-us/semantic-kernel/agents/plugins/?tabs=Csharp)\n",
    "\n",
    "At a high-level, a plugin is a group of functions which semantical description. \n",
    "\n",
    "You can create tow types of functions:\n",
    "    \n",
    "    - prompts \n",
    "    - native functions."
   ]
  },
  {
   "cell_type": "markdown",
   "metadata": {},
   "source": [
    "## Native functions\n",
    "With native functions, we empower AI services to perform tasks equivalent to those of any other applications, be it web APIs or console applications, but in an intelligent manner.\n",
    "\n",
    "The [LightPlug](plugins/LightPlugin.cs) we used in previous lab is an example of native functions.\n",
    "It has annotations to decribe the functions, which can be used by AI service to understand how the functions behave.\n",
    "\n",
    "Here, we are going to define another plugin that enable AI service to seach files in local directories and read PDF files."
   ]
  },
  {
   "cell_type": "code",
   "execution_count": 1,
   "metadata": {
    "dotnet_interactive": {
     "language": "csharp"
    },
    "polyglot_notebook": {
     "kernelName": "csharp"
    },
    "vscode": {
     "languageId": "polyglot-notebook"
    }
   },
   "outputs": [
    {
     "data": {
      "text/html": [
       "<div><div></div><div></div><div><strong>Installed Packages</strong><ul><li><span>Microsoft.SemanticKernel, 1.3.1</span></li><li><span>Microsoft.SemanticKernel.Plugins.Core, 1.3.1-alpha</span></li></ul></div></div>"
      ]
     },
     "metadata": {},
     "output_type": "display_data"
    }
   ],
   "source": [
    "#r \"nuget: Microsoft.SemanticKernel, 1.3.1\"\n",
    "#r \"nuget: Microsoft.SemanticKernel.Plugins.Core, 1.3.1-alpha\"\n",
    "#!import config/Settings.cs \n",
    "#!import lib/Usings.cs\n",
    "#!import lib/Utilities.cs"
   ]
  },
  {
   "cell_type": "markdown",
   "metadata": {},
   "source": [
    "### Method Attributes \n",
    "\n",
    "[KernelFunction] and [Description] are required attributes for the methods you want an AI to call your code. They are serialized into metadata so that an AI service can understand what tools are available to use."
   ]
  },
  {
   "cell_type": "code",
   "execution_count": 2,
   "metadata": {
    "dotnet_interactive": {
     "language": "csharp"
    },
    "polyglot_notebook": {
     "kernelName": "csharp"
    },
    "vscode": {
     "languageId": "polyglot-notebook"
    }
   },
   "outputs": [
    {
     "data": {
      "text/html": [
       "<div><div></div><div></div><div><strong>Installed Packages</strong><ul><li><span>pdfpig, 0.1.8</span></li></ul></div></div>"
      ]
     },
     "metadata": {},
     "output_type": "display_data"
    }
   ],
   "source": [
    "#r \"nuget: pdfpig, 0.1.8\"\n",
    "using UglyToad.PdfPig;\n",
    "using UglyToad.PdfPig.Content;\n",
    "using System.Collections;\n",
    "using System.Collections.Generic;\n",
    "\n",
    "public sealed class PdfFilesPlugin\n",
    "{\n",
    "    [KernelFunction, Description(\"Get the list of files in a directory\")] \n",
    "    public static string[] GetFiles([Description(\"The directory to search for files\")]string directory)\n",
    "    {\n",
    "        return Directory.GetFiles(directory);\n",
    "    }\n",
    "\n",
    "    [KernelFunction, Description(\"Get the list of files in a directory with a specific pattern\")]\n",
    "    public static string[] GetFilesWithPattern([Description(\"The directory to search for files\")]string directory, [Description(\"The pattern to search for\")]string pattern)\n",
    "    {\n",
    "        return Directory.GetFiles(directory, pattern);\n",
    "    }\n",
    "\n",
    "    [KernelFunction, Description(\"Read the content of a pdf file\")]\n",
    "    public static string ReadPdf([Description(\"The path to the pdf file\")]string path)\n",
    "    {\n",
    "        using (var document = PdfDocument.Open(path))\n",
    "        {\n",
    "            var sb = new StringBuilder();\n",
    "            foreach (var page in document.GetPages())\n",
    "            {\n",
    "                sb.AppendLine(page.Text);\n",
    "            }\n",
    "            return sb.ToString();\n",
    "        }\n",
    "    }\n",
    "}"
   ]
  },
  {
   "cell_type": "markdown",
   "metadata": {},
   "source": [
    "## Prompt functions\n",
    "The \"Prompt\" function, as the name suggests, encapsulates templated prompts for interacting with AI services. These prompts contain placeholders, such as {{input}}, which represent parameters for the task. The kernel utilizes a template engine to accept these parameters and generate the final prompt text, which is then sent to the AI service.\n",
    "\n",
    "This \"Prompt\" function consists of two files: skprompt.txt, which serves as the prompt template, and config.json, which describes this plugin. The configuration file specifies the function's input parameters, provides a description to semantically define the function, and defines the configuration for the AI service."
   ]
  },
  {
   "cell_type": "markdown",
   "metadata": {},
   "source": [
    "```\n",
    "[SUMMARIZATION RULES]\n",
    "DONT WASTE WORDS\n",
    "USE SHORT, CLEAR, COMPLETE SENTENCES.\n",
    "DO NOT USE BULLET POINTS OR DASHES.\n",
    "USE ACTIVE VOICE.\n",
    "MAXIMIZE DETAIL, MEANING\n",
    "FOCUS ON THE CONTENT\n",
    "\n",
    "[BANNED PHRASES]\n",
    "This article\n",
    "This document\n",
    "This page\n",
    "This material\n",
    "[END LIST]\n",
    "\n",
    "Summarize:\n",
    "Hello how are you?\n",
    "+++++\n",
    "Hello\n",
    "\n",
    "Summarize this\n",
    "{{$input}}\n",
    "+++++\n",
    "```"
   ]
  },
  {
   "cell_type": "markdown",
   "metadata": {},
   "source": [
    "``` json\n",
    "{\n",
    "  \"schema\": 1,\n",
    "  \"description\": \"Summarize given text or any text document\",\n",
    "  \"execution_settings\": {\n",
    "    \"default\": {\n",
    "      \"max_tokens\": 512,\n",
    "      \"temperature\": 0.0,\n",
    "      \"top_p\": 0.0,\n",
    "      \"presence_penalty\": 0.0,\n",
    "      \"frequency_penalty\": 0.0\n",
    "    }\n",
    "  },\n",
    "  \"input_variables\": [\n",
    "    {\n",
    "      \"name\": \"input\",\n",
    "      \"description\": \"Text to summarize\",\n",
    "      \"default\": \"\",\n",
    "      \"is_required\": true\n",
    "    }\n",
    "  ]\n",
    "}\n",
    "```"
   ]
  },
  {
   "cell_type": "markdown",
   "metadata": {},
   "source": [
    "### Now lets put the plugins we just created into work."
   ]
  },
  {
   "cell_type": "code",
   "execution_count": 3,
   "metadata": {
    "dotnet_interactive": {
     "language": "csharp"
    },
    "polyglot_notebook": {
     "kernelName": "csharp"
    },
    "vscode": {
     "languageId": "polyglot-notebook"
    }
   },
   "outputs": [
    {
     "data": {
      "text/html": [
       "<div><div></div><div></div><div><strong>Installed Packages</strong><ul><li><span>Microsoft.SemanticKernel, 1.3.1</span></li><li><span>Microsoft.SemanticKernel.Plugins.Core, 1.3.1-alpha</span></li></ul></div></div>"
      ]
     },
     "metadata": {},
     "output_type": "display_data"
    }
   ],
   "source": [
    "#r \"nuget: Microsoft.SemanticKernel, 1.3.1\"\n",
    "#r \"nuget: Microsoft.SemanticKernel.Plugins.Core, 1.3.1-alpha\"\n",
    "#!import config/Settings.cs \n",
    "#!import lib/Usings.cs\n",
    "#!import lib/Utilities.cs\n"
   ]
  },
  {
   "cell_type": "code",
   "execution_count": 4,
   "metadata": {
    "dotnet_interactive": {
     "language": "csharp"
    },
    "polyglot_notebook": {
     "kernelName": "csharp"
    },
    "vscode": {
     "languageId": "polyglot-notebook"
    }
   },
   "outputs": [],
   "source": [
    "var (useAzureOpenAI, model, azureEndpoint, apiKey, orgId) = Settings.LoadFromFile();\n",
    "var builder = Kernel.CreateBuilder();\n",
    "\n",
    "//register ai serivces\n",
    "builder.AddAzureOpenAIChatCompletion(model, azureEndpoint, apiKey);\n",
    "\n",
    "//register plugins\n",
    "#pragma warning disable SKEXP0050\n",
    "builder.Plugins.AddFromPromptDirectory(\"./plugins/\");\n",
    "builder.Plugins.AddFromType<PdfFilesPlugin>();\n",
    "\n",
    "var kernel = builder.Build();\n"
   ]
  },
  {
   "cell_type": "code",
   "execution_count": 6,
   "metadata": {
    "dotnet_interactive": {
     "language": "csharp"
    },
    "polyglot_notebook": {
     "kernelName": "csharp"
    },
    "vscode": {
     "languageId": "polyglot-notebook"
    }
   },
   "outputs": [
    {
     "name": "stdout",
     "output_type": "stream",
     "text": [
      "User > summarize the pdf file at ./pdf\n"
     ]
    },
    {
     "data": {
      "text/plain": [
       "\"The Happy Prince\" by Oscar Wilde tells the story of a magnificent statue, admired by the citizens for its beauty and splendor, standing high above the city. One night, a lonely Swallow, who had stayed behind after his companions flew to Egypt, seeks shelter between the statue's feet. As he prepares to sleep, he is surprised by a drop of water, despite the clear sky, marking the beginning of an unexpected interaction."
      ]
     },
     "metadata": {},
     "output_type": "display_data"
    },
    {
     "name": "stdout",
     "output_type": "stream",
     "text": [
      "Assistant > Microsoft.DotNet.Interactive.DisplayedValue\n"
     ]
    }
   ],
   "source": [
    "var input = \"summarize the pdf file at ./pdf\";\n",
    "\n",
    "ChatHistory history = [];\n",
    "\n",
    "// Get chat completion service\n",
    "var chatCompletionService = kernel.GetRequiredService<IChatCompletionService>();\n",
    "\n",
    "    // Get user input\n",
    "Console.WriteLine($\"User > {input}\");\n",
    "history.AddUserMessage(input);\n",
    "\n",
    "// Enable auto function calling\n",
    "OpenAIPromptExecutionSettings openAIPromptExecutionSettings = new()\n",
    "{\n",
    "    ToolCallBehavior = ToolCallBehavior.AutoInvokeKernelFunctions\n",
    "};\n",
    "\n",
    "// Get the response from the AI\n",
    "var result = await chatCompletionService.GetChatMessageContentAsync(\n",
    "        history,\n",
    "        executionSettings: openAIPromptExecutionSettings,\n",
    "        kernel: kernel);\n",
    "\n",
    "// Add the message from the agent to the chat history\n",
    "history.AddMessage(result.Role, result.Content);\n",
    "\n",
    "// Print the results\n",
    "Console.WriteLine(\"Assistant > \" + result.Content);\n"
   ]
  },
  {
   "cell_type": "markdown",
   "metadata": {},
   "source": [
    "## Your Turn\n",
    "\n",
    "Now it's your turn to try out the plugins. Can you add a new plug that translates the summarization into French(hint: prompt function), and anther to save summarization output into a text file(hint: native function)? "
   ]
  },
  {
   "cell_type": "markdown",
   "metadata": {},
   "source": []
  },
  {
   "cell_type": "markdown",
   "metadata": {},
   "source": []
  },
  {
   "cell_type": "markdown",
   "metadata": {},
   "source": []
  }
 ],
 "metadata": {
  "language_info": {
   "name": "csharp"
  }
 },
 "nbformat": 4,
 "nbformat_minor": 2
}
