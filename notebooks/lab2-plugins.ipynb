{
 "cells": [
  {
   "cell_type": "markdown",
   "metadata": {},
   "source": [
    "# AI plugins\n",
    "Plugins are the fundamental building blocks of Semantic Kernel. With plugins, you can encapsulate capabilities into a single unit of functionality that can then be run by the kernel. [Ref](https://learn.microsoft.com/en-us/semantic-kernel/agents/plugins/?tabs=Csharp)\n",
    "At a high-level, a plugin is a group of functions which semantical description. You can create tow types of functions:prompts and native functions."
   ]
  },
  {
   "cell_type": "markdown",
   "metadata": {},
   "source": [
    "## Native functions\n",
    "The [LightPlug](plugins/LightPlugin.cs) we used in previous lab is an example of native functions. \n",
    "It has annotations to decribe the functions, which can be used by AI service to understand how the functions behave."
   ]
  },
  {
   "cell_type": "code",
   "execution_count": 16,
   "metadata": {
    "dotnet_interactive": {
     "language": "csharp"
    },
    "polyglot_notebook": {
     "kernelName": "csharp"
    },
    "vscode": {
     "languageId": "polyglot-notebook"
    }
   },
   "outputs": [
    {
     "data": {
      "text/html": [
       "<div><div></div><div></div><div><strong>Installed Packages</strong><ul><li><span>Microsoft.SemanticKernel, 1.3.1</span></li><li><span>Microsoft.SemanticKernel.Plugins.Core, 1.3.1-alpha</span></li></ul></div></div>"
      ]
     },
     "metadata": {},
     "output_type": "display_data"
    }
   ],
   "source": [
    "#r \"nuget: Microsoft.SemanticKernel, 1.3.1\"\n",
    "#r \"nuget: Microsoft.SemanticKernel.Plugins.Core, 1.3.1-alpha\"\n",
    "#!import config/Settings.cs \n",
    "#!import lib/Usings.cs\n",
    "#!import lib/Utilities.cs"
   ]
  },
  {
   "cell_type": "markdown",
   "metadata": {},
   "source": []
  },
  {
   "cell_type": "code",
   "execution_count": 28,
   "metadata": {
    "dotnet_interactive": {
     "language": "csharp"
    },
    "polyglot_notebook": {
     "kernelName": "csharp"
    },
    "vscode": {
     "languageId": "polyglot-notebook"
    }
   },
   "outputs": [
    {
     "data": {
      "text/html": [
       "<div><div></div><div></div><div><strong>Installed Packages</strong><ul><li><span>pdfpig, 0.1.8</span></li></ul></div></div>"
      ]
     },
     "metadata": {},
     "output_type": "display_data"
    }
   ],
   "source": [
    "#r \"nuget: pdfpig, 0.1.8\"\n",
    "using UglyToad.PdfPig;\n",
    "using UglyToad.PdfPig.Content;\n",
    "using System.Collections;\n",
    "using System.Collections.Generic;\n",
    "\n",
    "public sealed class PdfFilesPlugin\n",
    "{\n",
    "    [KernelFunction, Description(\"Get the list of files in a directory\")] \n",
    "    public static string[] GetFiles([Description(\"The directory to search for files\")]string directory)\n",
    "    {\n",
    "        return Directory.GetFiles(directory);\n",
    "    }\n",
    "\n",
    "    [KernelFunction, Description(\"Get the list of files in a directory with a specific pattern\")]\n",
    "    public static string[] GetFilesWithPattern([Description(\"The directory to search for files\")]string directory, [Description(\"The pattern to search for\")]string pattern)\n",
    "    {\n",
    "        return Directory.GetFiles(directory, pattern);\n",
    "    }\n",
    "\n",
    "    [KernelFunction, Description(\"Read the content of a pdf file\")]\n",
    "    public static string ReadPdf([Description(\"The path to the pdf file\")]string path)\n",
    "    {\n",
    "        using (var document = PdfDocument.Open(path))\n",
    "        {\n",
    "            var sb = new StringBuilder();\n",
    "            foreach (var page in document.GetPages())\n",
    "            {\n",
    "                sb.AppendLine(page.Text);\n",
    "            }\n",
    "            return sb.ToString();\n",
    "        }\n",
    "    }\n",
    "}"
   ]
  },
  {
   "cell_type": "markdown",
   "metadata": {},
   "source": [
    "## Prompt functions\n",
    "If the plugin is to interact with AI service without needing executing native code, we can use prompt functions which are text based.  This Summarize pluging contains two files. The [skpromt.txt](./plugins/Summarize/skprompt.txt) is a prompt template that will be rendered with input parameters by Semantic Kernel Template Engine. To semantically describe this function (as well as define the configuration for the AI service),there is a config.json file in the same folder as the prompt. This file describes the function's input parameters and description. [Ref](https://learn.microsoft.com/en-us/semantic-kernel/agents/plugins/?tabs=Csharp)"
   ]
  },
  {
   "cell_type": "markdown",
   "metadata": {},
   "source": [
    "```\n",
    "[SUMMARIZATION RULES]\n",
    "DONT WASTE WORDS\n",
    "USE SHORT, CLEAR, COMPLETE SENTENCES.\n",
    "DO NOT USE BULLET POINTS OR DASHES.\n",
    "USE ACTIVE VOICE.\n",
    "MAXIMIZE DETAIL, MEANING\n",
    "FOCUS ON THE CONTENT\n",
    "\n",
    "[BANNED PHRASES]\n",
    "This article\n",
    "This document\n",
    "This page\n",
    "This material\n",
    "[END LIST]\n",
    "\n",
    "Summarize:\n",
    "Hello how are you?\n",
    "+++++\n",
    "Hello\n",
    "\n",
    "Summarize this\n",
    "{{$input}}\n",
    "+++++\n",
    "```"
   ]
  },
  {
   "cell_type": "markdown",
   "metadata": {},
   "source": [
    "``` json\n",
    "{\n",
    "  \"schema\": 1,\n",
    "  \"description\": \"Summarize given text or any text document\",\n",
    "  \"execution_settings\": {\n",
    "    \"default\": {\n",
    "      \"max_tokens\": 512,\n",
    "      \"temperature\": 0.0,\n",
    "      \"top_p\": 0.0,\n",
    "      \"presence_penalty\": 0.0,\n",
    "      \"frequency_penalty\": 0.0\n",
    "    }\n",
    "  },\n",
    "  \"input_variables\": [\n",
    "    {\n",
    "      \"name\": \"input\",\n",
    "      \"description\": \"Text to summarize\",\n",
    "      \"default\": \"\",\n",
    "      \"is_required\": true\n",
    "    }\n",
    "  ]\n",
    "}\n",
    "```"
   ]
  },
  {
   "cell_type": "markdown",
   "metadata": {},
   "source": [
    "Now lets put the plugins we just created into work."
   ]
  },
  {
   "cell_type": "code",
   "execution_count": 30,
   "metadata": {
    "dotnet_interactive": {
     "language": "csharp"
    },
    "polyglot_notebook": {
     "kernelName": "csharp"
    },
    "vscode": {
     "languageId": "polyglot-notebook"
    }
   },
   "outputs": [
    {
     "data": {
      "text/html": [
       "<div><div></div><div></div><div><strong>Installed Packages</strong><ul><li><span>Microsoft.SemanticKernel, 1.3.1</span></li><li><span>Microsoft.SemanticKernel.Plugins.Core, 1.3.1-alpha</span></li></ul></div></div>"
      ]
     },
     "metadata": {},
     "output_type": "display_data"
    }
   ],
   "source": [
    "#r \"nuget: Microsoft.SemanticKernel, 1.3.1\"\n",
    "#r \"nuget: Microsoft.SemanticKernel.Plugins.Core, 1.3.1-alpha\"\n",
    "#!import config/Settings.cs \n",
    "#!import lib/Usings.cs\n",
    "#!import lib/Utilities.cs\n"
   ]
  },
  {
   "cell_type": "code",
   "execution_count": 31,
   "metadata": {
    "dotnet_interactive": {
     "language": "csharp"
    },
    "polyglot_notebook": {
     "kernelName": "csharp"
    },
    "vscode": {
     "languageId": "polyglot-notebook"
    }
   },
   "outputs": [],
   "source": [
    "var (useAzureOpenAI, model, azureEndpoint, apiKey, orgId) = Settings.LoadFromFile();\n",
    "var builder = Kernel.CreateBuilder();\n",
    "\n",
    "//register ai serivces\n",
    "builder.AddAzureOpenAIChatCompletion(model, azureEndpoint, apiKey);\n",
    "\n",
    "//register plugins\n",
    "#pragma warning disable SKEXP0050\n",
    "builder.Plugins.AddFromPromptDirectory(\"./plugins/\");\n",
    "builder.Plugins.AddFromType<PdfFilesPlugin>();\n",
    "\n",
    "var kernel = builder.Build();\n"
   ]
  },
  {
   "cell_type": "code",
   "execution_count": 32,
   "metadata": {
    "dotnet_interactive": {
     "language": "csharp"
    },
    "polyglot_notebook": {
     "kernelName": "csharp"
    },
    "vscode": {
     "languageId": "polyglot-notebook"
    }
   },
   "outputs": [
    {
     "name": "stdout",
     "output_type": "stream",
     "text": [
      "User > summarize the pdf file at ./pdf\n",
      "Assistant > \"The Happy Prince\" by Oscar Wilde is a tale about a gilded statue, known for its beauty and perceived happiness, located high above a city. This statue draws the attention and becomes a point of reference for several inhabitants of the city, such as a mother consoling her son, a man disheartened by his circumstances, and charity children who admire its angelic appearance. The story also introduces a Swallow, who, delayed in his journey to Egypt due to his affection for a Reed, arrives in the city. The narrative delves into themes like the perception of beauty and happiness, and the contrasting realities of the lives of its characters.\n"
     ]
    }
   ],
   "source": [
    "var input = \"summarize the pdf file at ./pdf\";\n",
    "\n",
    "ChatHistory history = [];\n",
    "\n",
    "// Get chat completion service\n",
    "var chatCompletionService = kernel.GetRequiredService<IChatCompletionService>();\n",
    "\n",
    "    // Get user input\n",
    "Console.WriteLine($\"User > {input}\");\n",
    "history.AddUserMessage(input);\n",
    "\n",
    "// Enable auto function calling\n",
    "OpenAIPromptExecutionSettings openAIPromptExecutionSettings = new()\n",
    "{\n",
    "    ToolCallBehavior = ToolCallBehavior.AutoInvokeKernelFunctions\n",
    "};\n",
    "\n",
    "// Get the response from the AI\n",
    "var result = await chatCompletionService.GetChatMessageContentAsync(\n",
    "        history,\n",
    "        executionSettings: openAIPromptExecutionSettings,\n",
    "        kernel: kernel);\n",
    "\n",
    "// Add the message from the agent to the chat history\n",
    "history.AddMessage(result.Role, result.Content);\n",
    "\n",
    "// Print the results\n",
    "Console.WriteLine(\"Assistant > \" + result);\n"
   ]
  },
  {
   "cell_type": "markdown",
   "metadata": {},
   "source": [
    "## Your Turn\n",
    "\n",
    "Now it's your turn to try out the plugins. Can you add a new plug that translates the summarization into French, and anther to save summarization output into a text file? "
   ]
  },
  {
   "cell_type": "markdown",
   "metadata": {},
   "source": []
  }
 ],
 "metadata": {
  "language_info": {
   "name": "csharp"
  }
 },
 "nbformat": 4,
 "nbformat_minor": 2
}
